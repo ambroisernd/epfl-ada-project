{
 "cells": [
  {
   "cell_type": "markdown",
   "metadata": {},
   "source": [
    "# 1. Be the right person .."
   ]
  },
  {
   "cell_type": "code",
   "execution_count": 4,
   "metadata": {},
   "outputs": [],
   "source": [
    "import sys\n",
    "sys.path.append('../src')\n",
    "from data_loading import *\n",
    "import numpy as np\n",
    "import seaborn as sns\n",
    "import math\n",
    "import matplotlib.pyplot as plt"
   ]
  },
  {
   "cell_type": "markdown",
   "metadata": {},
   "source": [
    "```python\n",
    "data_2018 = YearLoader(2018)\n",
    "data_2018.get_dataframe(\"characteristics\")\n",
    "data_2018.get_dataframe(\"locations\")\n",
    "data_2018.get_dataframe(\"passengers\")\n",
    "data_2018.get_dataframe(\"vehicles\")\n",
    "```"
   ]
  },
  {
   "cell_type": "markdown",
   "metadata": {},
   "source": [
    "## Population Pyramids (driver)"
   ]
  },
  {
   "cell_type": "code",
   "execution_count": 5,
   "metadata": {},
   "outputs": [
    {
     "name": "stdout",
     "output_type": "stream",
     "text": [
      "[1911. 1916. 1917. 1918. 1919. 1920. 1921. 1922. 1923. 1924. 1925. 1926.\n",
      " 1927. 1928. 1929. 1930. 1931. 1932. 1933. 1934. 1935. 1936. 1937. 1938.\n",
      " 1939. 1940. 1941. 1942. 1943. 1944. 1945. 1946. 1947. 1948. 1949. 1950.\n",
      " 1951. 1952. 1953. 1954. 1955. 1956. 1957. 1958. 1959. 1960. 1961. 1962.\n",
      " 1963. 1964. 1965. 1966. 1967. 1968. 1969. 1970. 1971. 1972. 1973. 1974.\n",
      " 1975. 1976. 1977. 1978. 1979. 1980. 1981. 1982. 1983. 1984. 1985. 1986.\n",
      " 1987. 1988. 1989. 1990. 1991. 1992. 1993. 1994. 1995. 1996. 1997. 1998.\n",
      " 1999. 2000. 2001. 2002. 2003. 2004. 2005. 2006. 2007. 2008. 2009. 2010.\n",
      " 2011. 2012. 2013. 2014. 2015. 2016. 2017. 2018.   nan   nan   nan   nan\n",
      "   nan   nan   nan   nan   nan   nan   nan   nan   nan   nan   nan   nan\n",
      "   nan   nan   nan   nan   nan   nan   nan   nan   nan   nan   nan   nan\n",
      "   nan   nan]\n"
     ]
    }
   ],
   "source": [
    "# Load dataset\n",
    "data_2018 = YearLoader(2018)\n",
    "# Check if nan in an_nais\n",
    "print(np.unique(YearLoader(2018).get_dataframe(\"passengers\")['an_nais'].values))"
   ]
  },
  {
   "cell_type": "code",
   "execution_count": 8,
   "metadata": {},
   "outputs": [
    {
     "data": {
      "text/html": [
       "<div>\n",
       "<style scoped>\n",
       "    .dataframe tbody tr th:only-of-type {\n",
       "        vertical-align: middle;\n",
       "    }\n",
       "\n",
       "    .dataframe tbody tr th {\n",
       "        vertical-align: top;\n",
       "    }\n",
       "\n",
       "    .dataframe thead th {\n",
       "        text-align: right;\n",
       "    }\n",
       "</style>\n",
       "<table border=\"1\" class=\"dataframe\">\n",
       "  <thead>\n",
       "    <tr style=\"text-align: right;\">\n",
       "      <th></th>\n",
       "      <th>age_group</th>\n",
       "      <th>male_dead</th>\n",
       "      <th>male_alive</th>\n",
       "      <th>female_dead</th>\n",
       "      <th>female_alive</th>\n",
       "    </tr>\n",
       "  </thead>\n",
       "  <tbody>\n",
       "    <tr>\n",
       "      <th>0</th>\n",
       "      <td>00-10</td>\n",
       "      <td>34</td>\n",
       "      <td>2283</td>\n",
       "      <td>25</td>\n",
       "      <td>1695</td>\n",
       "    </tr>\n",
       "    <tr>\n",
       "      <th>1</th>\n",
       "      <td>10-20</td>\n",
       "      <td>201</td>\n",
       "      <td>9258</td>\n",
       "      <td>59</td>\n",
       "      <td>4614</td>\n",
       "    </tr>\n",
       "    <tr>\n",
       "      <th>2</th>\n",
       "      <td>20-30</td>\n",
       "      <td>582</td>\n",
       "      <td>21350</td>\n",
       "      <td>116</td>\n",
       "      <td>9552</td>\n",
       "    </tr>\n",
       "    <tr>\n",
       "      <th>3</th>\n",
       "      <td>30-40</td>\n",
       "      <td>395</td>\n",
       "      <td>16570</td>\n",
       "      <td>77</td>\n",
       "      <td>6990</td>\n",
       "    </tr>\n",
       "    <tr>\n",
       "      <th>4</th>\n",
       "      <td>40-50</td>\n",
       "      <td>361</td>\n",
       "      <td>13621</td>\n",
       "      <td>67</td>\n",
       "      <td>5832</td>\n",
       "    </tr>\n",
       "    <tr>\n",
       "      <th>5</th>\n",
       "      <td>50-60</td>\n",
       "      <td>364</td>\n",
       "      <td>11273</td>\n",
       "      <td>73</td>\n",
       "      <td>5177</td>\n",
       "    </tr>\n",
       "    <tr>\n",
       "      <th>6</th>\n",
       "      <td>60-70</td>\n",
       "      <td>261</td>\n",
       "      <td>6086</td>\n",
       "      <td>92</td>\n",
       "      <td>3514</td>\n",
       "    </tr>\n",
       "    <tr>\n",
       "      <th>7</th>\n",
       "      <td>70-80</td>\n",
       "      <td>196</td>\n",
       "      <td>3238</td>\n",
       "      <td>103</td>\n",
       "      <td>2281</td>\n",
       "    </tr>\n",
       "    <tr>\n",
       "      <th>8</th>\n",
       "      <td>80-90</td>\n",
       "      <td>174</td>\n",
       "      <td>1636</td>\n",
       "      <td>136</td>\n",
       "      <td>1312</td>\n",
       "    </tr>\n",
       "    <tr>\n",
       "      <th>9</th>\n",
       "      <td>90-100</td>\n",
       "      <td>46</td>\n",
       "      <td>260</td>\n",
       "      <td>29</td>\n",
       "      <td>197</td>\n",
       "    </tr>\n",
       "    <tr>\n",
       "      <th>10</th>\n",
       "      <td>100-110</td>\n",
       "      <td>1</td>\n",
       "      <td>4</td>\n",
       "      <td>0</td>\n",
       "      <td>4</td>\n",
       "    </tr>\n",
       "    <tr>\n",
       "      <th>11</th>\n",
       "      <td>?</td>\n",
       "      <td>0</td>\n",
       "      <td>24</td>\n",
       "      <td>0</td>\n",
       "      <td>6</td>\n",
       "    </tr>\n",
       "  </tbody>\n",
       "</table>\n",
       "</div>"
      ],
      "text/plain": [
       "   age_group  male_dead  male_alive  female_dead  female_alive\n",
       "0      00-10         34        2283           25          1695\n",
       "1      10-20        201        9258           59          4614\n",
       "2      20-30        582       21350          116          9552\n",
       "3      30-40        395       16570           77          6990\n",
       "4      40-50        361       13621           67          5832\n",
       "5      50-60        364       11273           73          5177\n",
       "6      60-70        261        6086           92          3514\n",
       "7      70-80        196        3238          103          2281\n",
       "8      80-90        174        1636          136          1312\n",
       "9     90-100         46         260           29           197\n",
       "10   100-110          1           4            0             4\n",
       "11         ?          0          24            0             6"
      ]
     },
     "execution_count": 8,
     "metadata": {},
     "output_type": "execute_result"
    }
   ],
   "source": [
    "def get_dead_alive_gender_df(data):\n",
    "    \"\"\"Create a DataFrame (male_dead, male_alive, female_dead, female_alive) for each age group.\n",
    "\n",
    "    If the age can't be computed or age is greater than 150 years old, age_group is '?'.\n",
    "\n",
    "    Parameters\n",
    "    ----------\n",
    "    data : YearLoader\n",
    "        Dataset loading class.\n",
    "\n",
    "    Returns\n",
    "    -------\n",
    "    pandas.DataFrame\n",
    "        Dead/Alive count for each age-group and gender\n",
    "\n",
    "    \"\"\"\n",
    "    # Load passengers dataset\n",
    "    passengers = data.get_dataframe(\"passengers\")\n",
    "    year = data.year\n",
    "    \n",
    "    \n",
    "    # Compute dead/alive for female/male\n",
    "    passengers['male_dead'] = passengers.apply(lambda x: 1 if x.grav==2 and x.sexe==1 else 0, axis=1)\n",
    "    passengers['male_alive'] = passengers.apply(lambda x: 1 if x.grav!=2 and x.sexe==1 else 0, axis=1)\n",
    "    passengers['female_dead'] = passengers.apply(lambda x: 1 if x.grav==2 and x.sexe==2 else 0, axis=1)\n",
    "    passengers['female_alive'] = passengers.apply(lambda x: 1 if x.grav!=2 and x.sexe==2 else 0, axis=1)\n",
    "    \n",
    "    # Compute age\n",
    "    passengers['age_group'] = passengers.apply(lambda x: 15 if math.isnan(x.an_nais) else int((year - x.an_nais)//10), axis=1)\n",
    "    pyramid_data = passengers[['male_dead', 'male_alive', 'female_dead', 'female_alive', 'age_group']]\n",
    "    \n",
    "    pyramid_data = pyramid_data.groupby(['age_group']).sum(axis=1).sort_values('age_group')#.drop('sort', axis=1)\n",
    "    pyramid_data.reset_index(level=0, inplace=True)\n",
    "    # Age categorie to age group\n",
    "    pyramid_data['age_group'] = pyramid_data.apply(lambda x : '?' if x.age_group ==15 else str(x.age_group)+'0-'+str(x.age_group+1)+'0', axis=1)\n",
    "    \n",
    "    return pyramid_data\n",
    "    \n",
    "pyramid_data = get_dead_alive_gender_df(data_2018)\n",
    "pyramid_data"
   ]
  },
  {
   "cell_type": "code",
   "execution_count": 9,
   "metadata": {},
   "outputs": [
    {
     "data": {
      "text/plain": [
       "age_group       00-1010-2020-3030-4040-5050-6060-7070-8080-909...\n",
       "male_dead                                                    2615\n",
       "male_alive                                                  85603\n",
       "female_dead                                                   777\n",
       "female_alive                                                41174\n",
       "dtype: object"
      ]
     },
     "execution_count": 9,
     "metadata": {},
     "output_type": "execute_result"
    }
   ],
   "source": [
    "pyramid_data.sum()"
   ]
  },
  {
   "cell_type": "code",
   "execution_count": 10,
   "metadata": {
    "scrolled": false
   },
   "outputs": [
    {
     "data": {
      "image/png": "[encoded data removed]",
      "text/plain": [
       "<Figure size 720x720 with 2 Axes>"
      ]
     },
     "metadata": {
      "needs_background": "light"
     },
     "output_type": "display_data"
    },
    {
     "data": {
      "image/png": "[encoded data removed]",
      "text/plain": [
       "<Figure size 720x720 with 2 Axes>"
      ]
     },
     "metadata": {
      "needs_background": "light"
     },
     "output_type": "display_data"
    },
    {
     "data": {
      "image/png": "[encoded data removed]",
      "text/plain": [
       "<Figure size 720x720 with 2 Axes>"
      ]
     },
     "metadata": {
      "needs_background": "light"
     },
     "output_type": "display_data"
    },
    {
     "data": {
      "image/png": "[encoded data removed]",
      "text/plain": [
       "<Figure size 720x720 with 2 Axes>"
      ]
     },
     "metadata": {
      "needs_background": "light"
     },
     "output_type": "display_data"
    }
   ],
   "source": [
    "def plot_pyramid_dead_alive_gender(df, female=False, male=True, figsize=(10,10), xlim = None):\n",
    "    \"\"\"Plot population pyramid (male_dead, male_alive, female_dead, female_alive) for each age group.\n",
    "\n",
    "    Parameters\n",
    "    ----------\n",
    "    df : pandas.DataFrame\n",
    "        pyramid_data (get_dead_alive_gender_df() function).\n",
    "    female : bool\n",
    "        show female plot.\n",
    "    male : bool\n",
    "        show male plot.\n",
    "    figsize : tuple\n",
    "        (x, y) figsize for plots.\n",
    "    xlim : tuple\n",
    "        (min,max) x axis limits.\n",
    "    \"\"\"\n",
    "\n",
    "    if male:\n",
    "        fig_male, axes_male = plt.subplots(ncols=2, sharey=True, figsize=figsize)\n",
    "        axes_male[0].barh(df['age_group'], df['male_alive'], align='center', color='green')\n",
    "        axes_male[1].barh(df['age_group'], df['male_dead'], align='center', color='red')\n",
    "        axes_male[0].set_xlim(xlim)\n",
    "        axes_male[1].set_xlim(xlim)\n",
    "        axes_male[0].invert_xaxis()\n",
    "        axes_male[0].legend(['male alive'])\n",
    "        axes_male[1].legend(['male dead'])\n",
    "        plt.show()\n",
    "        \n",
    "    if female:\n",
    "        \n",
    "        fig_female, axes_female = plt.subplots(ncols=2, sharey=True, figsize=figsize)\n",
    "        axes_female[0].barh(df['age_group'], df['female_alive'], align='center', color='green')\n",
    "        axes_female[1].barh(df['age_group'], df['female_dead'], align='center', color='red')\n",
    "        axes_female[0].set_xlim(xlim)\n",
    "        axes_female[1].set_xlim(xlim)\n",
    "        axes_female[0].invert_xaxis()\n",
    "        axes_female[0].legend(['female alive'])\n",
    "        axes_female[1].legend(['female dead'])\n",
    "\n",
    "        plt.show()\n",
    "\n",
    "plot_pyramid_dead_alive_gender(pyramid_data, male=True, female=True, xlim= (0,22000))\n",
    "plot_pyramid_dead_alive_gender(pyramid_data, male=True, female=True, xlim= None)"
   ]
  },
  {
   "cell_type": "markdown",
   "metadata": {},
   "source": [
    "## Types of vehicles"
   ]
  },
  {
   "cell_type": "code",
   "execution_count": 11,
   "metadata": {},
   "outputs": [
    {
     "data": {
      "text/html": [
       "<div>\n",
       "<style scoped>\n",
       "    .dataframe tbody tr th:only-of-type {\n",
       "        vertical-align: middle;\n",
       "    }\n",
       "\n",
       "    .dataframe tbody tr th {\n",
       "        vertical-align: top;\n",
       "    }\n",
       "\n",
       "    .dataframe thead th {\n",
       "        text-align: right;\n",
       "    }\n",
       "</style>\n",
       "<table border=\"1\" class=\"dataframe\">\n",
       "  <thead>\n",
       "    <tr style=\"text-align: right;\">\n",
       "      <th></th>\n",
       "      <th>catv</th>\n",
       "    </tr>\n",
       "  </thead>\n",
       "  <tbody>\n",
       "    <tr>\n",
       "      <th>7</th>\n",
       "      <td>60384</td>\n",
       "    </tr>\n",
       "    <tr>\n",
       "      <th>33</th>\n",
       "      <td>8277</td>\n",
       "    </tr>\n",
       "    <tr>\n",
       "      <th>10</th>\n",
       "      <td>6390</td>\n",
       "    </tr>\n",
       "    <tr>\n",
       "      <th>1</th>\n",
       "      <td>4967</td>\n",
       "    </tr>\n",
       "    <tr>\n",
       "      <th>2</th>\n",
       "      <td>3967</td>\n",
       "    </tr>\n",
       "    <tr>\n",
       "      <th>30</th>\n",
       "      <td>2740</td>\n",
       "    </tr>\n",
       "    <tr>\n",
       "      <th>31</th>\n",
       "      <td>2479</td>\n",
       "    </tr>\n",
       "    <tr>\n",
       "      <th>32</th>\n",
       "      <td>2002</td>\n",
       "    </tr>\n",
       "    <tr>\n",
       "      <th>34</th>\n",
       "      <td>1781</td>\n",
       "    </tr>\n",
       "    <tr>\n",
       "      <th>15</th>\n",
       "      <td>971</td>\n",
       "    </tr>\n",
       "    <tr>\n",
       "      <th>17</th>\n",
       "      <td>906</td>\n",
       "    </tr>\n",
       "    <tr>\n",
       "      <th>99</th>\n",
       "      <td>778</td>\n",
       "    </tr>\n",
       "    <tr>\n",
       "      <th>14</th>\n",
       "      <td>771</td>\n",
       "    </tr>\n",
       "    <tr>\n",
       "      <th>37</th>\n",
       "      <td>677</td>\n",
       "    </tr>\n",
       "    <tr>\n",
       "      <th>13</th>\n",
       "      <td>412</td>\n",
       "    </tr>\n",
       "    <tr>\n",
       "      <th>3</th>\n",
       "      <td>399</td>\n",
       "    </tr>\n",
       "    <tr>\n",
       "      <th>21</th>\n",
       "      <td>231</td>\n",
       "    </tr>\n",
       "    <tr>\n",
       "      <th>38</th>\n",
       "      <td>179</td>\n",
       "    </tr>\n",
       "    <tr>\n",
       "      <th>20</th>\n",
       "      <td>172</td>\n",
       "    </tr>\n",
       "    <tr>\n",
       "      <th>36</th>\n",
       "      <td>153</td>\n",
       "    </tr>\n",
       "    <tr>\n",
       "      <th>40</th>\n",
       "      <td>129</td>\n",
       "    </tr>\n",
       "    <tr>\n",
       "      <th>16</th>\n",
       "      <td>54</td>\n",
       "    </tr>\n",
       "    <tr>\n",
       "      <th>35</th>\n",
       "      <td>30</td>\n",
       "    </tr>\n",
       "    <tr>\n",
       "      <th>39</th>\n",
       "      <td>27</td>\n",
       "    </tr>\n",
       "  </tbody>\n",
       "</table>\n",
       "</div>"
      ],
      "text/plain": [
       "     catv\n",
       "7   60384\n",
       "33   8277\n",
       "10   6390\n",
       "1    4967\n",
       "2    3967\n",
       "30   2740\n",
       "31   2479\n",
       "32   2002\n",
       "34   1781\n",
       "15    971\n",
       "17    906\n",
       "99    778\n",
       "14    771\n",
       "37    677\n",
       "13    412\n",
       "3     399\n",
       "21    231\n",
       "38    179\n",
       "20    172\n",
       "36    153\n",
       "40    129\n",
       "16     54\n",
       "35     30\n",
       "39     27"
      ]
     },
     "execution_count": 11,
     "metadata": {},
     "output_type": "execute_result"
    }
   ],
   "source": [
    "def get_vehicles_type_df(data):\n",
    "    \"\"\"Create a DataFrame (catv).\n",
    "\n",
    "    Count number of vehicles per category\n",
    "\n",
    "    Parameters\n",
    "    ----------\n",
    "    data : YearLoader\n",
    "        Dataset loading class.\n",
    "\n",
    "    Returns\n",
    "    -------\n",
    "    pandas.DataFrame\n",
    "        Vehicles categories count DataFrame.\n",
    "\n",
    "    \"\"\"\n",
    "    \n",
    "    # Get vehicles DataFrame\n",
    "    vehicles = data.get_dataframe(\"vehicles\")\n",
    "    \n",
    "    # Count vehicles per category\n",
    "    vehicles_cat = pd.DataFrame(vehicles['catv'].value_counts())\n",
    "    \n",
    "    return vehicles_cat\n",
    "\n",
    "vehicles_2018_cat = get_vehicles_type_df(data_2018)\n",
    "vehicles_2018_cat"
   ]
  },
  {
   "cell_type": "code",
   "execution_count": 12,
   "metadata": {},
   "outputs": [
    {
     "data": {
      "image/png": "[encoded data removed]",
      "text/plain": [
       "<Figure size 720x720 with 1 Axes>"
      ]
     },
     "metadata": {
      "needs_background": "light"
     },
     "output_type": "display_data"
    }
   ],
   "source": [
    "def plot_vehicles_cat(df, figsize=(10,10)):\n",
    "    \"\"\"Bar plot number of vehicle per category.\n",
    "\n",
    "\n",
    "    Parameters\n",
    "    ----------\n",
    "    df : pandas.DataFrame\n",
    "         vehicle per category count DataFrame (get_vehicles_type_df() function).\n",
    "\n",
    "    \"\"\"\n",
    "    df.plot(kind='bar', figsize=figsize)\n",
    "    plt.show()\n",
    "    \n",
    "plot_vehicles_cat(vehicles_2018_cat)"
   ]
  },
  {
   "cell_type": "code",
   "execution_count": null,
   "metadata": {},
   "outputs": [],
   "source": []
  }
 ],
 "metadata": {
  "kernelspec": {
   "display_name": "Python [conda env:ada] *",
   "language": "python",
   "name": "conda-env-ada-py"
  },
  "language_info": {
   "codemirror_mode": {
    "name": "ipython",
    "version": 3
   },
   "file_extension": ".py",
   "mimetype": "text/x-python",
   "name": "python",
   "nbconvert_exporter": "python",
   "pygments_lexer": "ipython3",
   "version": "3.7.4"
  }
 },
 "nbformat": 4,
 "nbformat_minor": 2
}
